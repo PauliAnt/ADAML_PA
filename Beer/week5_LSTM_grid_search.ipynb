{
 "cells": [
  {
   "cell_type": "code",
   "execution_count": null,
   "metadata": {},
   "outputs": [],
   "source": [
    "import torch\n",
    "import torch.nn as nn\n",
    "import numpy as np\n",
    "import pandas as pd\n",
    "import matplotlib.pyplot as plt\n",
    "from sklearn.preprocessing import MinMaxScaler\n",
    "from torch.utils.data import DataLoader, TensorDataset, random_split\n",
    "from week5_LSTM_model import LSTMModel, load_data\n",
    "\n",
    "\n",
    "# Training function\n",
    "def train_model(model, train_loader, val_loader, optimizer, criterion, epochs=100):\n",
    "    for epoch in range(epochs):\n",
    "        model.train()\n",
    "        train_loss = 0\n",
    "        for X_batch, y_batch in train_loader:\n",
    "            optimizer.zero_grad()\n",
    "            output = model(X_batch)\n",
    "            loss = criterion(output, y_batch)\n",
    "            loss.backward()\n",
    "            optimizer.step()\n",
    "            train_loss += loss.item()\n",
    "        \n",
    "        # Validation\n",
    "        model.eval()\n",
    "        val_loss = 0\n",
    "        with torch.no_grad():\n",
    "            for X_batch, y_batch in val_loader:\n",
    "                output = model(X_batch)\n",
    "                loss = criterion(output, y_batch)\n",
    "                val_loss += loss.item()\n",
    "        \n",
    "        # if (epoch + 1) % 10 == 0:\n",
    "        #     print(f'Epoch {epoch+1}, Train Loss: {train_loss/len(train_loader):.4f}, '\n",
    "        #           f'Validation Loss: {val_loss/len(val_loader):.4f}')\n",
    "\n",
    "def eval_model(model,criterion,val_loader):\n",
    "    model.eval()\n",
    "    train_loss = 0\n",
    "    for X_batch, y_batch in val_loader:\n",
    "        # optimizer.zero_grad()\n",
    "        output = model(X_batch)\n",
    "        loss = criterion(output, y_batch)\n",
    "        train_loss += loss.item()\n",
    "\n",
    "    return train_loss/len(val_loader)\n",
    "# Testing and visualization\n",
    "\n"
   ]
  },
  {
   "cell_type": "code",
   "execution_count": 3,
   "metadata": {},
   "outputs": [
    {
     "name": "stderr",
     "output_type": "stream",
     "text": [
      "100%|██████████| 108/108 [13:22<00:00,  7.43s/it]\n"
     ]
    }
   ],
   "source": [
    "from sklearn.model_selection import ParameterGrid\n",
    "from tqdm import tqdm\n",
    "# Parameter grid\n",
    "params_search = {\n",
    "    'hidden_size': [16, 32, 64],\n",
    "    'num_layers': [1,2,3],\n",
    "    'batch_size':[16,32,64],\n",
    "    'seq_length':[12,24],\n",
    "    'lr':[0.01,0.001]\n",
    "}\n",
    "\n",
    "# Generate all combinations of parameters\n",
    "param_grid = ParameterGrid(params_search)\n",
    "\n",
    "# Loop through each combination\n",
    "losses = []\n",
    "for params in tqdm(param_grid):\n",
    "    # print(param_combination)\n",
    "    'a'\n",
    "    # Access individual parameters like this\n",
    "    train_data, val_data, test_data, scaler = load_data('datasets_56102_107707_monthly-beer-production-in-austr.csv',params['seq_length'])\n",
    "\n",
    "\n",
    "    # Create data loaders\n",
    "    batch_size = params['batch_size']\n",
    "    train_loader = DataLoader(train_data, batch_size=batch_size, shuffle=True)\n",
    "    val_loader = DataLoader(val_data, batch_size=batch_size)\n",
    "    test_loader = DataLoader(test_data, batch_size=batch_size)\n",
    "\n",
    "\n",
    "\n",
    "    # Initialize the model, loss function, and optimizer\n",
    "    model = LSTMModel(hidden_size=params['hidden_size'],num_layers=params['num_layers'])\n",
    "    criterion = nn.MSELoss()\n",
    "    optimizer = torch.optim.Adam(model.parameters(), lr=params['lr'])\n",
    "\n",
    "\n",
    "\n",
    "    # Train the model\n",
    "    train_model(model, train_loader, val_loader, optimizer, criterion, epochs=100)\n",
    "\n",
    "    losses.append(eval_model(model,criterion,val_loader))\n",
    "    \n",
    "    # You can now train your model with each combination\n",
    "    # model = YourModel(nodes=nodes, lr=lr)\n",
    "    # model.fit(X_train, y_train)\n"
   ]
  },
  {
   "cell_type": "code",
   "execution_count": 4,
   "metadata": {},
   "outputs": [
    {
     "name": "stdout",
     "output_type": "stream",
     "text": [
      "{'seq_length': 24, 'num_layers': 1, 'lr': 0.01, 'hidden_size': 64, 'batch_size': 32}\n"
     ]
    }
   ],
   "source": [
    "best_model_ind = losses.index(min(losses))\n",
    "best_model_params = param_grid[best_model_ind]\n",
    "\n",
    "print(best_model_params)"
   ]
  },
  {
   "cell_type": "code",
   "execution_count": null,
   "metadata": {},
   "outputs": [],
   "source": []
  }
 ],
 "metadata": {
  "kernelspec": {
   "display_name": "ADAML",
   "language": "python",
   "name": "python3"
  },
  "language_info": {
   "codemirror_mode": {
    "name": "ipython",
    "version": 3
   },
   "file_extension": ".py",
   "mimetype": "text/x-python",
   "name": "python",
   "nbconvert_exporter": "python",
   "pygments_lexer": "ipython3",
   "version": "3.12.7"
  }
 },
 "nbformat": 4,
 "nbformat_minor": 2
}
