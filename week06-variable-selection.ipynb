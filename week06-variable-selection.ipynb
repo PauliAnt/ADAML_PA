{
 "cells": [
  {
   "cell_type": "markdown",
   "metadata": {},
   "source": [
    "Import libraries and data"
   ]
  },
  {
   "cell_type": "code",
   "execution_count": 39,
   "metadata": {},
   "outputs": [],
   "source": [
    "import numpy as np\n",
    "import pandas as pd\n",
    "import matplotlib.pyplot as plt\n",
    "\n",
    "from sklearn.cross_decomposition import PLSRegression\n",
    "from sklearn.preprocessing import StandardScaler\n",
    "\n",
    "from tqdm import tqdm\n",
    "\n",
    "with pd.HDFStore('MiningProcess_Flotation_Plant_Database_train_split.h5') as store:\n",
    "    X_cal = store.get('X_cal')\n",
    "    Y_cal = store.get('Y_cal')\n",
    "    X_test = store.get('X_test')\n",
    "    Y_test = store.get('Y_test')"
   ]
  },
  {
   "cell_type": "markdown",
   "metadata": {},
   "source": [
    "R2 variable selection function"
   ]
  },
  {
   "cell_type": "code",
   "execution_count": 40,
   "metadata": {},
   "outputs": [],
   "source": [
    "def pls_r2_variable_selection(X, y, V):\n",
    "    \"\"\"\n",
    "    Perform R2 score-based variable selection for PLS.\n",
    "    \n",
    "    Parameters:\n",
    "    X : numpy array, shape (n_samples, n_features)\n",
    "        The input data matrix.\n",
    "    y : numpy array, shape (n_samples,)\n",
    "        The target variable.\n",
    "    V : int\n",
    "        The desired number of variables to be selected.\n",
    "    \n",
    "    Returns:\n",
    "    s : list\n",
    "        Indices of the selected features, sorted by selection order.\n",
    "    \"\"\"\n",
    "\n",
    "    \n",
    "    n, m = X.shape\n",
    "    s = []  # Selected variables\n",
    "    s_names= []\n",
    "    R2_out = []\n",
    "    sn = list( X.columns.values )  # Unselected variables\n",
    "    N = 0  # Number of selected variables\n",
    "    M = m  # Number of unselected variables\n",
    "    \n",
    "    X = X.values\n",
    "    y = y.values\n",
    "    \n",
    "    # Standardize X and y\n",
    "    scaler_X = StandardScaler()\n",
    "    X_scaled = scaler_X.fit_transform(X)\n",
    "    scaler_y = StandardScaler()\n",
    "    y_scaled = scaler_y.fit_transform(y.reshape(-1, 1)).flatten()\n",
    "    \n",
    "    for v in tqdm( range(V) ):\n",
    "        TSS = np.sum((y_scaled - np.mean(y_scaled))**2)\n",
    "        R2_values = []\n",
    "        \n",
    "        for i, m in enumerate(sn):\n",
    "            s_temp = s + [i]\n",
    "            X_temp = X_scaled[:, s_temp]\n",
    "            \n",
    "            # Calibrate PLS model\n",
    "            pls = PLSRegression(n_components=min(len(s_temp), 4))  # Limit components to avoid overfitting\n",
    "            pls.fit(X_temp, y_scaled)\n",
    "            \n",
    "            # Estimate y from the model\n",
    "            y_pred = pls.predict(X_temp).flatten()\n",
    "            \n",
    "            # Calculate RSS and R2\n",
    "            RSS = np.sum((y_scaled - y_pred)**2)\n",
    "            R2 = 1 - RSS / TSS\n",
    "            # print( R2 )\n",
    "            R2_values.append(R2)\n",
    "        \n",
    "        # Select the variable with the highest R2\n",
    "        idx = np.argmax(R2_values)\n",
    "        R2_out.append(R2_values[idx])\n",
    "        s.append(idx)\n",
    "        s_names.append(sn[idx])\n",
    "        sn.pop(idx)\n",
    "        N += 1\n",
    "        M -= 1\n",
    "    \n",
    "    return s, np.array(R2_out), s_names\n"
   ]
  },
  {
   "cell_type": "markdown",
   "metadata": {},
   "source": [
    "Running the variable selection"
   ]
  },
  {
   "cell_type": "code",
   "execution_count": 41,
   "metadata": {},
   "outputs": [
    {
     "name": "stderr",
     "output_type": "stream",
     "text": [
      "  0%|          | 0/100 [00:00<?, ?it/s]"
     ]
    },
    {
     "name": "stderr",
     "output_type": "stream",
     "text": [
      "100%|██████████| 100/100 [01:37<00:00,  1.03it/s]\n"
     ]
    }
   ],
   "source": [
    "V = 100     # Number of variables\n",
    "selected_features, R2_values, s_names = pls_r2_variable_selection(X_cal, Y_cal, V)"
   ]
  },
  {
   "cell_type": "code",
   "execution_count": 50,
   "metadata": {},
   "outputs": [
    {
     "name": "stdout",
     "output_type": "stream",
     "text": [
      "[np.int64(21), np.int64(23), np.int64(211), np.int64(22), np.int64(24), np.int64(84), np.int64(54), np.int64(37), np.int64(32), np.int64(1), np.int64(66), np.int64(174), np.int64(14), np.int64(23), np.int64(196), np.int64(59), np.int64(126), np.int64(146), np.int64(74), np.int64(100), np.int64(74), np.int64(73), np.int64(145), np.int64(165), np.int64(65), np.int64(14), np.int64(148), np.int64(100), np.int64(13), np.int64(83), np.int64(100), np.int64(64), np.int64(83), np.int64(13), np.int64(13), np.int64(12), np.int64(91), np.int64(143), np.int64(140), np.int64(171), np.int64(82), np.int64(58), np.int64(173), np.int64(174), np.int64(17), np.int64(96), np.int64(70), np.int64(71), np.int64(104), np.int64(48), np.int64(96), np.int64(18), np.int64(71), np.int64(60), np.int64(96), np.int64(70), np.int64(104), np.int64(142), np.int64(104), np.int64(157), np.int64(97), np.int64(103), np.int64(104), np.int64(17), np.int64(19), np.int64(103), np.int64(103), np.int64(70), np.int64(96), np.int64(82), np.int64(102), np.int64(96), np.int64(103), np.int64(103), np.int64(103), np.int64(103), np.int64(96), np.int64(97), np.int64(103), np.int64(102), np.int64(103), np.int64(96), np.int64(103), np.int64(102), np.int64(103), np.int64(102), np.int64(103), np.int64(95), np.int64(103), np.int64(71), np.int64(102), np.int64(71), np.int64(102), np.int64(71), np.int64(102), np.int64(102), np.int64(102), np.int64(102), np.int64(104), np.int64(112)]\n"
     ]
    },
    {
     "data": {
      "text/plain": [
       "Index(['% Silica Concentrate Lag 1', '% Silica Concentrate Lag 3',\n",
       "       'Flotation Column 07 Level Lag 2', '% Silica Concentrate Lag 2',\n",
       "       '% Silica Concentrate Lag 4', 'Ore Pulp Density Lag 1',\n",
       "       'Starch Flow Lag 7', '% Iron Feed Lag 8', '% Iron Feed Lag 3',\n",
       "       '% Silica Feed', 'Ore Pulp Flow Lag 1',\n",
       "       'Flotation Column 03 Level Lag 1', 'Flotation Column 01 Level',\n",
       "       '% Silica Concentrate Lag 3', 'Flotation Column 05 Level Lag 5',\n",
       "       'Amina Flow Lag 3', 'Flotation Column 04 Air Flow Lag 7',\n",
       "       'Flotation Column 06 Air Flow Lag 9', 'Ore Pulp Flow Lag 9',\n",
       "       'Flotation Column 01 Air Flow Lag 8', 'Ore Pulp Flow Lag 9',\n",
       "       'Ore Pulp Flow Lag 8', 'Flotation Column 06 Air Flow Lag 8',\n",
       "       'Flotation Column 02 Level Lag 1', 'Amina Flow Lag 9',\n",
       "       'Flotation Column 01 Level', 'Flotation Column 07 Air Flow Lag 2',\n",
       "       'Flotation Column 01 Air Flow Lag 8', 'Flotation Column 07 Air Flow',\n",
       "       'Ore Pulp pH Lag 9', 'Flotation Column 01 Air Flow Lag 8',\n",
       "       'Amina Flow Lag 8', 'Ore Pulp pH Lag 9', 'Flotation Column 07 Air Flow',\n",
       "       'Flotation Column 07 Air Flow', 'Flotation Column 06 Air Flow',\n",
       "       'Ore Pulp Density Lag 8', 'Flotation Column 06 Air Flow Lag 6',\n",
       "       'Flotation Column 06 Air Flow Lag 3', 'Flotation Column 02 Level Lag 7',\n",
       "       'Ore Pulp pH Lag 8', 'Amina Flow Lag 2',\n",
       "       'Flotation Column 02 Level Lag 9', 'Flotation Column 03 Level Lag 1',\n",
       "       'Flotation Column 04 Level', 'Flotation Column 01 Air Flow Lag 4',\n",
       "       'Ore Pulp Flow Lag 5', 'Ore Pulp Flow Lag 6',\n",
       "       'Flotation Column 02 Air Flow Lag 3', 'Starch Flow Lag 1',\n",
       "       'Flotation Column 01 Air Flow Lag 4', 'Flotation Column 05 Level',\n",
       "       'Ore Pulp Flow Lag 6', 'Amina Flow Lag 4',\n",
       "       'Flotation Column 01 Air Flow Lag 4', 'Ore Pulp Flow Lag 5',\n",
       "       'Flotation Column 02 Air Flow Lag 3',\n",
       "       'Flotation Column 06 Air Flow Lag 5',\n",
       "       'Flotation Column 02 Air Flow Lag 3', 'Flotation Column 01 Level Lag 2',\n",
       "       'Flotation Column 01 Air Flow Lag 5',\n",
       "       'Flotation Column 02 Air Flow Lag 2',\n",
       "       'Flotation Column 02 Air Flow Lag 3', 'Flotation Column 04 Level',\n",
       "       'Flotation Column 06 Level', 'Flotation Column 02 Air Flow Lag 2',\n",
       "       'Flotation Column 02 Air Flow Lag 2', 'Ore Pulp Flow Lag 5',\n",
       "       'Flotation Column 01 Air Flow Lag 4', 'Ore Pulp pH Lag 8',\n",
       "       'Flotation Column 02 Air Flow Lag 1',\n",
       "       'Flotation Column 01 Air Flow Lag 4',\n",
       "       'Flotation Column 02 Air Flow Lag 2',\n",
       "       'Flotation Column 02 Air Flow Lag 2',\n",
       "       'Flotation Column 02 Air Flow Lag 2',\n",
       "       'Flotation Column 02 Air Flow Lag 2',\n",
       "       'Flotation Column 01 Air Flow Lag 4',\n",
       "       'Flotation Column 01 Air Flow Lag 5',\n",
       "       'Flotation Column 02 Air Flow Lag 2',\n",
       "       'Flotation Column 02 Air Flow Lag 1',\n",
       "       'Flotation Column 02 Air Flow Lag 2',\n",
       "       'Flotation Column 01 Air Flow Lag 4',\n",
       "       'Flotation Column 02 Air Flow Lag 2',\n",
       "       'Flotation Column 02 Air Flow Lag 1',\n",
       "       'Flotation Column 02 Air Flow Lag 2',\n",
       "       'Flotation Column 02 Air Flow Lag 1',\n",
       "       'Flotation Column 02 Air Flow Lag 2',\n",
       "       'Flotation Column 01 Air Flow Lag 3',\n",
       "       'Flotation Column 02 Air Flow Lag 2', 'Ore Pulp Flow Lag 6',\n",
       "       'Flotation Column 02 Air Flow Lag 1', 'Ore Pulp Flow Lag 6',\n",
       "       'Flotation Column 02 Air Flow Lag 1', 'Ore Pulp Flow Lag 6',\n",
       "       'Flotation Column 02 Air Flow Lag 1',\n",
       "       'Flotation Column 02 Air Flow Lag 1',\n",
       "       'Flotation Column 02 Air Flow Lag 1',\n",
       "       'Flotation Column 02 Air Flow Lag 1',\n",
       "       'Flotation Column 02 Air Flow Lag 3',\n",
       "       'Flotation Column 03 Air Flow Lag 2'],\n",
       "      dtype='object')"
      ]
     },
     "execution_count": 50,
     "metadata": {},
     "output_type": "execute_result"
    },
    {
     "data": {
      "image/png": "[encoded data removed]",
      "text/plain": [
       "<Figure size 1000x600 with 1 Axes>"
      ]
     },
     "metadata": {},
     "output_type": "display_data"
    }
   ],
   "source": [
    "fig = plt.figure(figsize=(10, 6))\n",
    "plt.plot( range(1, V+1), R2_values, \"-\" )\n",
    "plt.grid()\n",
    "plt.title( r\"$R^2$ values for variables\" )\n",
    "plt.ylabel( r\"$R^2$\" )\n",
    "plt.xlabel( \"Number of variables\" )\n",
    "\n",
    "print( selected_features )\n",
    "\n",
    "X_cal.columns[selected_features]"
   ]
  }
 ],
 "metadata": {
  "kernelspec": {
   "display_name": "Python 3",
   "language": "python",
   "name": "python3"
  },
  "language_info": {
   "codemirror_mode": {
    "name": "ipython",
    "version": 3
   },
   "file_extension": ".py",
   "mimetype": "text/x-python",
   "name": "python",
   "nbconvert_exporter": "python",
   "pygments_lexer": "ipython3",
   "version": "3.10.12"
  }
 },
 "nbformat": 4,
 "nbformat_minor": 2
}
