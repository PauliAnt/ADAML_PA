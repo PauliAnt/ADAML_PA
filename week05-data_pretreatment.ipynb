{
 "cells": [
  {
   "cell_type": "code",
   "execution_count": 173,
   "metadata": {},
   "outputs": [],
   "source": [
    "import xarray as xr\n",
    "import pandas as pd\n",
    "\n",
    "dataset = xr.open_dataset('MiningProcess_Flotation_Plant_Database.h5', engine = 'h5netcdf')\n",
    "df = dataset.to_pandas()"
   ]
  },
  {
   "cell_type": "code",
   "execution_count": 174,
   "metadata": {},
   "outputs": [],
   "source": [
    "## Resampling\n",
    "df = df.resample('1h').mean()\n",
    "\n",
    "\n",
    "## Split into input and output\n",
    "X = df.iloc[:,:-2]\n",
    "Y = df['% Silica Concentrate']"
   ]
  },
  {
   "cell_type": "code",
   "execution_count": 176,
   "metadata": {},
   "outputs": [],
   "source": [
    "# Adding lagged variables\n",
    "import numpy as np\n",
    "\n",
    "\n",
    "X_copy = X.copy()\n",
    "lagged_variables = {}\n",
    "\n",
    "# For the output variable\n",
    "for lag in range(1,10):\n",
    "    lagged_variable = np.zeros(len(X_copy))\n",
    "    lagged_variable[lag:] = Y.iloc[:-lag]\n",
    "    lagged_variables[f'% Silica Concentrate Lag {lag}'] = lagged_variable\n",
    "\n",
    "# For other input variables\n",
    "for variable in X_copy.columns:\n",
    "    X_variable = X_copy[variable]\n",
    "    for lag in range(1,10):\n",
    "        lagged_variable = np.zeros(len(X_variable))\n",
    "        lagged_variable[lag:] = X_variable.iloc[:-lag]\n",
    "        lagged_variables[f'{variable} Lag {lag}'] = lagged_variable\n",
    "\n",
    "X_lagged_variables = pd.DataFrame(lagged_variables,index=X_copy.index)\n",
    "\n",
    "X = X.join(X_lagged_variables)\n",
    "X = X[10:] # Remove first measures that dont have lagged values"
   ]
  },
  {
   "cell_type": "code",
   "execution_count": 177,
   "metadata": {},
   "outputs": [],
   "source": [
    "# Only include wanted variables\n",
    "remove_variables = True\n",
    "N = 20\n",
    "if remove_variables:\n",
    "    variables = pd.read_csv('variables.csv')\n",
    "    X = X.loc[:,variables['Column'].iloc[:N]]\n"
   ]
  },
  {
   "cell_type": "code",
   "execution_count": 178,
   "metadata": {},
   "outputs": [],
   "source": [
    "# Split to calibration-validation set and test set\n",
    "X_cal = X['20170615':'20170723']\n",
    "Y_cal = Y['20170615':'20170723']\n",
    "\n",
    "X_test = X['20170426':'20170506']\n",
    "Y_test = Y['20170426':'20170506']\n"
   ]
  },
  {
   "cell_type": "code",
   "execution_count": 180,
   "metadata": {},
   "outputs": [],
   "source": [
    "# Store data\n",
    "with pd.HDFStore('MiningProcess_Flotation_Plant_Database_train_split_variables.h5') as store:\n",
    "    store.put('X_cal', X_cal)\n",
    "    store.put('Y_cal', Y_cal)\n",
    "\n",
    "    store.put('X_test', X_test)\n",
    "    store.put('Y_test', Y_test)\n",
    "\n"
   ]
  }
 ],
 "metadata": {
  "kernelspec": {
   "display_name": "ADAML",
   "language": "python",
   "name": "python3"
  },
  "language_info": {
   "codemirror_mode": {
    "name": "ipython",
    "version": 3
   },
   "file_extension": ".py",
   "mimetype": "text/x-python",
   "name": "python",
   "nbconvert_exporter": "python",
   "pygments_lexer": "ipython3",
   "version": "3.12.5"
  }
 },
 "nbformat": 4,
 "nbformat_minor": 2
}
