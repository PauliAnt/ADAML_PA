{
 "cells": [
  {
   "cell_type": "code",
   "execution_count": 34,
   "metadata": {},
   "outputs": [],
   "source": [
    "import xarray as xr\n",
    "import pandas as pd\n",
    "import locale\n",
    "\n",
    "# locale.setlocale(locale.LC_ALL,'en_US')\n",
    "# locale.setlocale(locale.LC_ALL,'en_US')\n",
    "dataset = xr.open_dataset('MiningProcess_Flotation_Plant_Database.h5', engine = 'h5netcdf')\n",
    "df = dataset.to_pandas()\n"
   ]
  },
  {
   "cell_type": "code",
   "execution_count": 28,
   "metadata": {},
   "outputs": [],
   "source": []
  },
  {
   "cell_type": "code",
   "execution_count": 35,
   "metadata": {},
   "outputs": [],
   "source": [
    "## Resampling\n",
    "df = df.resample('1h').mean()\n",
    "\n",
    "# # ##\n",
    "# df.iloc[:-1, df.columns.get_loc('% Iron Feed')] = df['% Iron Feed'].iloc[1:].values\n",
    "# df.iloc[:-1, df.columns.get_loc('% Silica Feed')] = df['% Silica Feed'].iloc[1:].values\n",
    "# df.iloc[:-1, df.columns.get_loc('% Iron Concentrate')] = df['% Iron Concentrate'].iloc[1:].values\n",
    "# df.iloc[:-1, df.columns.get_loc('% Silica Concentrate')] = df['% Silica Concentrate'].iloc[1:].values\n",
    "\n",
    "# df = df.iloc[:-1]\n",
    "\n",
    "## Split into input and output\n",
    "X = df.iloc[:,:-2]\n",
    "Y = df['% Silica Concentrate']"
   ]
  },
  {
   "cell_type": "code",
   "execution_count": 36,
   "metadata": {},
   "outputs": [],
   "source": [
    "# Adding lagged variables\n",
    "\n",
    "import numpy as np\n",
    "X_copy = X.copy()\n",
    "lagged_variables = {}\n",
    "for lag in range(1,7):\n",
    "    lagged_variable = np.zeros(len(X_copy))\n",
    "    lagged_variable[lag:] = Y.iloc[:-lag]\n",
    "\n",
    "    lagged_variables[f'% Silica Concentrate Lag {lag}'] = lagged_variable\n",
    "    # X.loc[:,] = lagged_variable\n",
    "\n",
    "\n",
    "for variable in X_copy.columns:\n",
    "    X_variable = X_copy[variable]\n",
    "    for lag in range(1,7):\n",
    "        lagged_variable = np.zeros(len(X_variable))\n",
    "        lagged_variable[lag:] = X_variable.iloc[:-lag]\n",
    "\n",
    "\n",
    "        # X.loc[f'{variable} Lag {lag}'] = lagged_variable\n",
    "        lagged_variables[f'{variable} Lag {lag}'] = lagged_variable\n",
    "\n",
    "df_lagged_variables = pd.DataFrame(lagged_variables,index=X_copy.index)\n",
    "\n",
    "X = X.join(df_lagged_variables)\n",
    "X = X[5:]"
   ]
  },
  {
   "cell_type": "code",
   "execution_count": 37,
   "metadata": {},
   "outputs": [],
   "source": [
    "remove_variables = True\n",
    "N = 22\n",
    "if remove_variables:\n",
    "    variables = pd.read_csv('variables.csv')\n",
    "    X = X.loc[:,variables['Column'].iloc[:N]]\n"
   ]
  },
  {
   "cell_type": "code",
   "execution_count": 38,
   "metadata": {},
   "outputs": [],
   "source": [
    "# Split to calibration-validation set and test set\n",
    "X_cal = X['20170615':'20170723']\n",
    "Y_cal = Y['20170615':'20170723']\n",
    "X_test = X['20170424':'20170506']\n",
    "Y_test = Y['20170424':'20170506']"
   ]
  },
  {
   "cell_type": "code",
   "execution_count": 39,
   "metadata": {},
   "outputs": [
    {
     "data": {
      "text/plain": [
       "count    935.000000\n",
       "mean      -0.000471\n",
       "std        0.763491\n",
       "min       -3.440000\n",
       "25%       -0.210000\n",
       "50%        0.000000\n",
       "75%        0.190000\n",
       "max        3.610000\n",
       "Name: % Silica Concentrate, dtype: float64"
      ]
     },
     "execution_count": 39,
     "metadata": {},
     "output_type": "execute_result"
    },
    {
     "data": {
      "image/png": "[encoded data removed]",
      "text/plain": [
       "<Figure size 640x480 with 1 Axes>"
      ]
     },
     "metadata": {},
     "output_type": "display_data"
    }
   ],
   "source": [
    "import matplotlib.pyplot as plt\n",
    "plt.hist(Y_cal.diff())\n",
    "\n",
    "Y_cal.diff().describe()"
   ]
  },
  {
   "cell_type": "code",
   "execution_count": 40,
   "metadata": {},
   "outputs": [
    {
     "name": "stderr",
     "output_type": "stream",
     "text": [
      "C:\\Users\\antto\\AppData\\Local\\Temp\\ipykernel_10688\\695225842.py:9: SettingWithCopyWarning: \n",
      "A value is trying to be set on a copy of a slice from a DataFrame\n",
      "\n",
      "See the caveats in the documentation: https://pandas.pydata.org/pandas-docs/stable/user_guide/indexing.html#returning-a-view-versus-a-copy\n",
      "  X_test.dropna(inplace=True)\n"
     ]
    }
   ],
   "source": [
    "# Remove missing values in between\n",
    "# X_cal.loc['201707060400':'201707062200'] = pd.NA\n",
    "# X_cal.dropna(inplace=True)\n",
    "\n",
    "# Y_cal.loc['201707060400':'201707062200'] = pd.NA\n",
    "# Y_cal.dropna(inplace=True)\n",
    "\n",
    "# X_test.loc['20170421':'20170424'] = pd.NA\n",
    "# X_test.dropna(inplace=True)\n",
    "\n",
    "# Y_test.loc['20170421':'20170424'] = pd.NA\n",
    "# Y_test.dropna(inplace=True)"
   ]
  },
  {
   "cell_type": "code",
   "execution_count": 41,
   "metadata": {},
   "outputs": [],
   "source": [
    "# Store data\n",
    "\n",
    "with pd.HDFStore('MiningProcess_Flotation_Plant_Database_train_split_variables_removed.h5') as store:\n",
    "    store.put('X_cal', X_cal)\n",
    "    store.put('Y_cal', Y_cal)\n",
    "    store.put('X_test', X_test)\n",
    "    store.put('Y_test', Y_test)"
   ]
  }
 ],
 "metadata": {
  "kernelspec": {
   "display_name": "ADAML",
   "language": "python",
   "name": "python3"
  },
  "language_info": {
   "codemirror_mode": {
    "name": "ipython",
    "version": 3
   },
   "file_extension": ".py",
   "mimetype": "text/x-python",
   "name": "python",
   "nbconvert_exporter": "python",
   "pygments_lexer": "ipython3",
   "version": "3.12.5"
  }
 },
 "nbformat": 4,
 "nbformat_minor": 2
}
