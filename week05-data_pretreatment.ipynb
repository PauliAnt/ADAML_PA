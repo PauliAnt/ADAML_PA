{
 "cells": [
  {
   "cell_type": "code",
   "execution_count": 78,
   "metadata": {},
   "outputs": [],
   "source": [
    "import xarray as xr\n",
    "import pandas as pd\n",
    "import locale\n",
    "\n",
    "locale.setlocale(locale.LC_ALL,'en_US')\n",
    "dataset = xr.open_dataset('MiningProcess_Flotation_Plant_Database.h5', engine = 'h5netcdf')\n",
    "df = dataset.to_pandas()\n"
   ]
  },
  {
   "cell_type": "code",
   "execution_count": 79,
   "metadata": {},
   "outputs": [],
   "source": [
    "## Resampling\n",
    "df = df.resample('1h').mean()\n",
    "\n",
    "## Split into input and output\n",
    "X = df.iloc[:,:-2]\n",
    "Y = df['% Silica Concentrate']"
   ]
  },
  {
   "cell_type": "code",
   "execution_count": 80,
   "metadata": {},
   "outputs": [
    {
     "name": "stderr",
     "output_type": "stream",
     "text": [
      "C:\\Users\\antto\\AppData\\Local\\Temp\\ipykernel_2324\\3760031147.py:17: SettingWithCopyWarning: \n",
      "A value is trying to be set on a copy of a slice from a DataFrame.\n",
      "Try using .loc[row_indexer,col_indexer] = value instead\n",
      "\n",
      "See the caveats in the documentation: https://pandas.pydata.org/pandas-docs/stable/user_guide/indexing.html#returning-a-view-versus-a-copy\n",
      "  X.loc[:,f'{variable}, Lag {lag}'] = lagged_variable\n"
     ]
    }
   ],
   "source": [
    "# Adding lagged variables\n",
    "\n",
    "X_copy = X.copy()\n",
    "\n",
    "import numpy as np\n",
    "\n",
    "\n",
    "for variable in X_copy.columns:\n",
    "    # print(variable)\n",
    "    \n",
    "    X_variable = X_copy[variable]\n",
    "\n",
    "    for lag in range(1,6):\n",
    "        lagged_variable = np.zeros(len(X))\n",
    "        lagged_variable[lag:] = X_variable.iloc[:-lag]\n",
    "\n",
    "    X.loc[:,f'{variable}, Lag {lag}'] = lagged_variable\n",
    "\n",
    "X = X[5:]"
   ]
  },
  {
   "cell_type": "code",
   "execution_count": 81,
   "metadata": {},
   "outputs": [],
   "source": [
    "# Split to calibration-validation set and test set\n",
    "X_cal = X['20170615':'20170723']\n",
    "Y_cal = Y['20170615':'20170723']\n",
    "X_test = X['20170412':'20170506']\n",
    "Y_test = Y['20170412':'20170506']"
   ]
  },
  {
   "cell_type": "code",
   "execution_count": 82,
   "metadata": {},
   "outputs": [
    {
     "name": "stderr",
     "output_type": "stream",
     "text": [
      "C:\\Users\\antto\\AppData\\Local\\Temp\\ipykernel_2324\\2442657920.py:3: SettingWithCopyWarning: \n",
      "A value is trying to be set on a copy of a slice from a DataFrame\n",
      "\n",
      "See the caveats in the documentation: https://pandas.pydata.org/pandas-docs/stable/user_guide/indexing.html#returning-a-view-versus-a-copy\n",
      "  X_test.dropna(inplace=True)\n"
     ]
    }
   ],
   "source": [
    "# Remove missing values in between\n",
    "X_test.loc['20170421':'20170424'] = pd.NA\n",
    "X_test.dropna(inplace=True)\n",
    "\n",
    "Y_test.loc['20170421':'20170424'] = pd.NA\n",
    "Y_test.dropna(inplace=True)"
   ]
  },
  {
   "cell_type": "code",
   "execution_count": 83,
   "metadata": {},
   "outputs": [],
   "source": [
    "# Store data\n",
    "\n",
    "with pd.HDFStore('MiningProcess_Flotation_Plant_Database_train_split.h5') as store:\n",
    "    store.put('X_cal', X_cal)\n",
    "    store.put('Y_cal', Y_cal)\n",
    "    store.put('X_test', X_test)\n",
    "    store.put('Y_test', Y_test)"
   ]
  }
 ],
 "metadata": {
  "kernelspec": {
   "display_name": "ADAML",
   "language": "python",
   "name": "python3"
  },
  "language_info": {
   "codemirror_mode": {
    "name": "ipython",
    "version": 3
   },
   "file_extension": ".py",
   "mimetype": "text/x-python",
   "name": "python",
   "nbconvert_exporter": "python",
   "pygments_lexer": "ipython3",
   "version": "3.12.7"
  }
 },
 "nbformat": 4,
 "nbformat_minor": 2
}
