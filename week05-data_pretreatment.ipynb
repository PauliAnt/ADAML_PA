{
 "cells": [
  {
   "cell_type": "code",
   "execution_count": 1,
   "metadata": {},
   "outputs": [],
   "source": [
    "import xarray as xr\n",
    "import pandas as pd\n",
    "import locale\n",
    "\n",
    "# locale.setlocale(locale.LC_ALL,'en_US')\n",
    "# locale.setlocale(locale.LC_ALL,'en_US')\n",
    "dataset = xr.open_dataset('MiningProcess_Flotation_Plant_Database.h5', engine = 'h5netcdf')\n",
    "df = dataset.to_pandas()\n"
   ]
  },
  {
   "cell_type": "code",
   "execution_count": 2,
   "metadata": {},
   "outputs": [],
   "source": [
    "## Resampling\n",
    "df = df.resample('1h').mean()\n",
    "\n",
    "##\n",
    "df.iloc[:-1, df.columns.get_loc('% Iron Feed')] = df['% Iron Feed'].iloc[1:].values\n",
    "df.iloc[:-1, df.columns.get_loc('% Silica Feed')] = df['% Silica Feed'].iloc[1:].values\n",
    "df.iloc[:-1, df.columns.get_loc('% Iron Concentrate')] = df['% Iron Concentrate'].iloc[1:].values\n",
    "df.iloc[:-1, df.columns.get_loc('% Silica Concentrate')] = df['% Silica Concentrate'].iloc[1:].values\n",
    "\n",
    "df = df.iloc[:-1]\n",
    "\n",
    "## Split into input and output\n",
    "X = df.iloc[:,:-2]\n",
    "Y = df['% Silica Concentrate']"
   ]
  },
  {
   "cell_type": "code",
   "execution_count": 3,
   "metadata": {},
   "outputs": [
    {
     "name": "stderr",
     "output_type": "stream",
     "text": [
      "/tmp/ipykernel_53561/1270065800.py:8: SettingWithCopyWarning: \n",
      "A value is trying to be set on a copy of a slice from a DataFrame.\n",
      "Try using .loc[row_indexer,col_indexer] = value instead\n",
      "\n",
      "See the caveats in the documentation: https://pandas.pydata.org/pandas-docs/stable/user_guide/indexing.html#returning-a-view-versus-a-copy\n",
      "  X.loc[:,f'% Silica Concentrate Lag {lag}'] = lagged_variable\n"
     ]
    }
   ],
   "source": [
    "# Adding lagged variables\n",
    "import numpy as np\n",
    "for lag in range(1,6):\n",
    "    lagged_variable = np.zeros(len(df))\n",
    "    lagged_variable[lag:] = Y.iloc[:-lag]\n",
    "\n",
    "\n",
    "    X.loc[:,f'% Silica Concentrate Lag {lag}'] = lagged_variable\n",
    "\n",
    "\n",
    "X = X[5:]"
   ]
  },
  {
   "cell_type": "code",
   "execution_count": 4,
   "metadata": {},
   "outputs": [],
   "source": [
    "# Split to calibration-validation set and test set\n",
    "X_cal = X['20170615':'20170723']\n",
    "Y_cal = Y['20170615':'20170723']\n",
    "X_test = X['20170412':'20170506']\n",
    "Y_test = Y['20170412':'20170506']"
   ]
  },
  {
   "cell_type": "code",
   "execution_count": 5,
   "metadata": {},
   "outputs": [
    {
     "name": "stderr",
     "output_type": "stream",
     "text": [
      "/tmp/ipykernel_53561/2442657920.py:3: SettingWithCopyWarning: \n",
      "A value is trying to be set on a copy of a slice from a DataFrame\n",
      "\n",
      "See the caveats in the documentation: https://pandas.pydata.org/pandas-docs/stable/user_guide/indexing.html#returning-a-view-versus-a-copy\n",
      "  X_test.dropna(inplace=True)\n"
     ]
    }
   ],
   "source": [
    "# Remove missing values in between\n",
    "X_test.loc['20170421':'20170424'] = pd.NA\n",
    "X_test.dropna(inplace=True)\n",
    "\n",
    "Y_test.loc['20170421':'20170424'] = pd.NA\n",
    "Y_test.dropna(inplace=True)"
   ]
  },
  {
   "cell_type": "code",
   "execution_count": 6,
   "metadata": {},
   "outputs": [],
   "source": [
    "# Store data\n",
    "\n",
    "with pd.HDFStore('MiningProcess_Flotation_Plant_Database_train_split.h5') as store:\n",
    "    store.put('X_cal', X_cal)\n",
    "    store.put('Y_cal', Y_cal)\n",
    "    store.put('X_test', X_test)\n",
    "    store.put('Y_test', Y_test)"
   ]
  }
 ],
 "metadata": {
  "kernelspec": {
   "display_name": "Python 3",
   "language": "python",
   "name": "python3"
  },
  "language_info": {
   "codemirror_mode": {
    "name": "ipython",
    "version": 3
   },
   "file_extension": ".py",
   "mimetype": "text/x-python",
   "name": "python",
   "nbconvert_exporter": "python",
   "pygments_lexer": "ipython3",
   "version": "3.10.12"
  }
 },
 "nbformat": 4,
 "nbformat_minor": 2
}
