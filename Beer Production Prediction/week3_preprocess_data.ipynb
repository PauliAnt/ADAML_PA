{
 "cells": [
  {
   "cell_type": "code",
   "execution_count": 19,
   "metadata": {},
   "outputs": [],
   "source": [
    "import pandas as pd\n",
    "import numpy as np\n",
    "from sklearn.preprocessing import MinMaxScaler\n",
    "from statsmodels.tsa.seasonal import STL\n",
    "\n",
    "df = pd.read_csv('datasets_56102_107707_monthly-beer-production-in-austr.csv',index_col=0,parse_dates=True)\n",
    "\n",
    "# Partition 70 % train data, 15% val data, 15% test data\n",
    "\n",
    "stl = STL(df)\n",
    "stl_fitted = stl.fit()\n",
    "\n",
    "residuals = stl_fitted.resid\n",
    "seasonal = stl_fitted.seasonal\n",
    "trend = stl_fitted.trend\n",
    "data = stl_fitted.observed.iloc[:,0]\n",
    "\n",
    "df_out = pd.DataFrame({'data':data,'Trend':trend,'Seasonal':seasonal,'Residuals':residuals})\n",
    "\n",
    "df_out.to_csv('dataset.csv')"
   ]
  }
 ],
 "metadata": {
  "kernelspec": {
   "display_name": "ADAML",
   "language": "python",
   "name": "python3"
  },
  "language_info": {
   "codemirror_mode": {
    "name": "ipython",
    "version": 3
   },
   "file_extension": ".py",
   "mimetype": "text/x-python",
   "name": "python",
   "nbconvert_exporter": "python",
   "pygments_lexer": "ipython3",
   "version": "3.12.7"
  }
 },
 "nbformat": 4,
 "nbformat_minor": 2
}
